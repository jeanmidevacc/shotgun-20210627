{
 "cells": [
  {
   "cell_type": "markdown",
   "metadata": {},
   "source": [
    "# 1_prepare_data\n",
    "\n",
    "A notebook to prepare the data for the tests"
   ]
  },
  {
   "cell_type": "code",
   "execution_count": null,
   "metadata": {},
   "outputs": [],
   "source": [
    "from datetime import datetime\n",
    "\n",
    "import pandas as pd\n",
    "from sklearn.model_selection import train_test_split"
   ]
  },
  {
   "cell_type": "code",
   "execution_count": null,
   "metadata": {},
   "outputs": [],
   "source": [
    "dfp_consumption = pd.read_csv('./data/rtu/rte_daily_consumption.csv')\n",
    "dfp_weather = pd.read_csv('./data/rtu/nasa_weather.csv')"
   ]
  },
  {
   "cell_type": "code",
   "execution_count": null,
   "metadata": {},
   "outputs": [],
   "source": [
    "dfp_consumption.head()"
   ]
  },
  {
   "cell_type": "code",
   "execution_count": null,
   "metadata": {},
   "outputs": [],
   "source": [
    "dfp_weather.head()"
   ]
  },
  {
   "cell_type": "code",
   "execution_count": null,
   "metadata": {},
   "outputs": [],
   "source": [
    "# Merge the electrical consumption and the weather data\n",
    "dfp_data = pd.merge(dfp_consumption, dfp_weather, on =['date'])\n",
    "dfp_data['date'] = pd.to_datetime(dfp_data['date'])"
   ]
  },
  {
   "cell_type": "code",
   "execution_count": null,
   "metadata": {},
   "outputs": [],
   "source": [
    "# Compute averaged temperature and precipatation bassed on the population of the top11 cities in France\n",
    "dict_cities_population = {\n",
    "    'bordeaux' : 257068,\n",
    "    'lille' : 233098,\n",
    "    'paris' : 2175601,\n",
    "    'rennes' : 217728,\n",
    "    'nantes' : 314138,\n",
    "    'toulouse' : 486828,\n",
    "    'marseille' : 868277,\n",
    "    'lyon' : 518635,\n",
    "    'nice' : 341138,\n",
    "    'strasbourg' : 284677,\n",
    "    'montpellier' : 290053\n",
    "}\n",
    "\n",
    "sum_population_cities = sum([value for key, value in dict_cities_population.items()])\n",
    "for parameter in ['t2m', 't2m_min', 't2m_max', 'prectot']:\n",
    "    dfp_data[f'weighted_{parameter}'] = dfp_data.apply(lambda row: sum([1.0 * (value/sum_population_cities) * row[f'{parameter}_{key}'] for key, value in dict_cities_population.items()]), axis=1)"
   ]
  },
  {
   "cell_type": "code",
   "execution_count": null,
   "metadata": {},
   "outputs": [],
   "source": [
    "# Add feature related to the day\n",
    "dfp_data['weekday'] = dfp_data['date'].apply(lambda date: date.weekday())\n",
    "dfp_data['month'] = dfp_data['date'].apply(lambda date: date.month)\n",
    "dfp_data['week_number'] = dfp_data['date'].apply(lambda date: date.week)"
   ]
  },
  {
   "cell_type": "code",
   "execution_count": null,
   "metadata": {},
   "outputs": [],
   "source": [
    "dfp_data.head()"
   ]
  },
  {
   "cell_type": "code",
   "execution_count": null,
   "metadata": {},
   "outputs": [],
   "source": [
    "# Split all the data that was before the 1st of January 2020 and the one after\n",
    "dfp_data_model = dfp_data[(dfp_data['date'] < datetime(2020, 1, 1))]\n",
    "dfp_data_2020 = dfp_data[(dfp_data['date'] >= datetime(2020, 1, 1))]"
   ]
  },
  {
   "cell_type": "code",
   "execution_count": null,
   "metadata": {},
   "outputs": [],
   "source": [
    "# Sae the data in files\n",
    "dfp_data_model.to_csv('./data/rtu/model_data.csv', index=None)\n",
    "dfp_data_2020.to_csv('./data/rtu/2020_data.csv', index=None)"
   ]
  },
  {
   "cell_type": "code",
   "execution_count": null,
   "metadata": {},
   "outputs": [],
   "source": [
    "# Build a training and testing set (save them in files)\n",
    "dfp_train, dfp_test = train_test_split(dfp_data_model, test_size=0.2, random_state=0)\n",
    "dfp_train.to_csv('./data/rtu/model_train_data.csv', index=None)\n",
    "dfp_test.to_csv('./data/rtu/model_test_data.csv', index=None)"
   ]
  },
  {
   "cell_type": "code",
   "execution_count": null,
   "metadata": {},
   "outputs": [],
   "source": []
  }
 ],
 "metadata": {
  "kernelspec": {
   "display_name": "oldml_p37",
   "language": "python",
   "name": "oldml_p37"
  },
  "language_info": {
   "codemirror_mode": {
    "name": "ipython",
    "version": 3
   },
   "file_extension": ".py",
   "mimetype": "text/x-python",
   "name": "python",
   "nbconvert_exporter": "python",
   "pygments_lexer": "ipython3",
   "version": "3.7.10"
  }
 },
 "nbformat": 4,
 "nbformat_minor": 4
}
