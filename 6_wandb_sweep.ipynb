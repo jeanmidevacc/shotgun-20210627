{
 "cells": [
  {
   "cell_type": "markdown",
   "metadata": {},
   "source": [
    "# 6_wandb_sweep\n",
    "\n",
    "A notebookto explore the sweep feature of wandb"
   ]
  },
  {
   "cell_type": "code",
   "execution_count": 8,
   "metadata": {},
   "outputs": [],
   "source": [
    "import random\n",
    "import os\n",
    "\n",
    "import pandas as pd\n",
    "import numpy as np\n",
    "import matplotlib.pyplot as plt\n",
    "\n",
    "from sklearn.ensemble import RandomForestRegressor\n",
    "\n",
    "from sklearn.metrics import mean_squared_error\n",
    "import wandb\n",
    "\n",
    "evaluation_metrics = []"
   ]
  },
  {
   "cell_type": "code",
   "execution_count": 9,
   "metadata": {},
   "outputs": [],
   "source": [
    "os.environ[\"WANDB_SILENT\"] = \"true\" # make wandb less verbose"
   ]
  },
  {
   "cell_type": "code",
   "execution_count": 10,
   "metadata": {},
   "outputs": [],
   "source": [
    "dfp_train = pd.read_csv('./data/rtu/model_train_data.csv')\n",
    "dfp_train['date'] = pd.to_datetime(dfp_train['date'])\n",
    "\n",
    "dfp_test = pd.read_csv('./data/rtu/model_test_data.csv')\n",
    "dfp_test['date'] = pd.to_datetime(dfp_test['date'])"
   ]
  },
  {
   "cell_type": "code",
   "execution_count": 11,
   "metadata": {},
   "outputs": [],
   "source": [
    "columns_weather = [ 't2m_min_bordeaux',\n",
    "       't2m_bordeaux', 't2m_max_bordeaux', 'prectot_bordeaux', 't2m_min_lille',\n",
    "       't2m_lille', 't2m_max_lille', 'prectot_lille', 't2m_min_paris',\n",
    "       't2m_paris', 't2m_max_paris', 'prectot_paris', 't2m_min_rennes',\n",
    "       't2m_rennes', 't2m_max_rennes', 'prectot_rennes', 't2m_min_nantes',\n",
    "       't2m_nantes', 't2m_max_nantes', 'prectot_nantes', 't2m_min_toulouse',\n",
    "       't2m_toulouse', 't2m_max_toulouse', 'prectot_toulouse',\n",
    "       't2m_min_marseille', 't2m_marseille', 't2m_max_marseille',\n",
    "       'prectot_marseille', 't2m_min_lyon', 't2m_lyon', 't2m_max_lyon',\n",
    "       'prectot_lyon', 't2m_min_nice', 't2m_nice', 't2m_max_nice',\n",
    "       'prectot_nice', 't2m_min_strasbourg', 't2m_strasbourg',\n",
    "       't2m_max_strasbourg', 'prectot_strasbourg', 't2m_min_montpellier',\n",
    "       't2m_montpellier', 't2m_max_montpellier', 'prectot_montpellier',\n",
    "       'weighted_t2m', 'weighted_t2m_min', 'weighted_t2m_max',\n",
    "       'weighted_prectot']\n",
    "\n",
    "columns_features = ['weekday', 'month', 'week_number'] + columns_weather"
   ]
  },
  {
   "cell_type": "code",
   "execution_count": 12,
   "metadata": {},
   "outputs": [],
   "source": [
    "# Keep it simple only date and consumption\n",
    "column_target = 'daily_electrical_consumption'\n",
    "X_train, y_train = dfp_train[columns_features], dfp_train[column_target]\n",
    "X_test, y_test = dfp_test[columns_features], dfp_test[column_target]"
   ]
  },
  {
   "cell_type": "code",
   "execution_count": 13,
   "metadata": {},
   "outputs": [],
   "source": [
    "sweep_config = {\n",
    "    \"name\" : \"sweep-bayes\",\n",
    "    \"method\" : \"bayes\",\n",
    "    \"metric\" : {\n",
    "        \"name\" : \"rmse\",\n",
    "        \"goal\" : \"minimise\"\n",
    "    },\n",
    "    \"parameters\" : {\n",
    "        \"criterion\" : {\n",
    "            \"values\" : ['mse', 'mae']\n",
    "    },\n",
    "        \"n_estimators\" :{\n",
    "            \"min\": 1,\n",
    "            \"max\": 100,\n",
    "            \"q\" : 1\n",
    "    }, \n",
    "        \"min_samples_split\" :{\n",
    "            \"min\": 0.1,\n",
    "            \"max\": 1,\n",
    "            \"q\" : 0.1\n",
    "    },\n",
    "        \"max_features\" : {\n",
    "            \"values\" : ['auto', 'sqrt', 'log2']\n",
    "        },\n",
    "        \"max_depth\" : {\n",
    "            \"min\" : 2,\n",
    "            \"max\": 100,\n",
    "            \"q\":5\n",
    "        }\n",
    "        \n",
    "  }\n",
    "}\n",
    "\n",
    "def train_and_evaluate():\n",
    "    with wandb.init() as run:\n",
    "        config = wandb.config\n",
    "        model = RandomForestRegressor( **config)\n",
    "        model.fit(X_train, y_train)\n",
    "        predictions = model.predict(X_test)\n",
    "        rmse = mean_squared_error(y_test, predictions, squared=False)\n",
    "        wandb.log({'rmse' : rmse})"
   ]
  },
  {
   "cell_type": "code",
   "execution_count": 14,
   "metadata": {},
   "outputs": [
    {
     "name": "stdout",
     "output_type": "stream",
     "text": [
      "Create sweep with ID: oasxuvvr\n",
      "Sweep URL: https://wandb.ai/jmdaignan/french_electrical_consumption/sweeps/oasxuvvr\n"
     ]
    },
    {
     "name": "stderr",
     "output_type": "stream",
     "text": [
      "\u001b[34m\u001b[1mwandb\u001b[0m: Agent Starting Run: jbesx7qt with config:\n",
      "\u001b[34m\u001b[1mwandb\u001b[0m: \tcriterion: mae\n",
      "\u001b[34m\u001b[1mwandb\u001b[0m: \tmax_depth: 77\n",
      "\u001b[34m\u001b[1mwandb\u001b[0m: \tmax_features: sqrt\n",
      "\u001b[34m\u001b[1mwandb\u001b[0m: \tmin_samples_split: 0.62448292692302\n",
      "\u001b[34m\u001b[1mwandb\u001b[0m: \tn_estimators: 6\n"
     ]
    }
   ],
   "source": [
    "count = 100 # number of runs to execute\n",
    "sweep_config['name'] = 'sweep-random'\n",
    "sweep_config['method'] = 'random'\n",
    "sweep_id = wandb.sweep(sweep_config, project='french_electrical_consumption', entity='jmdaignan')\n",
    "wandb.agent(sweep_id, function=train_and_evaluate, count=count)"
   ]
  },
  {
   "cell_type": "code",
   "execution_count": 15,
   "metadata": {},
   "outputs": [
    {
     "name": "stdout",
     "output_type": "stream",
     "text": [
      "Create sweep with ID: k05shddu\n",
      "Sweep URL: https://wandb.ai/jmdaignan/french_electrical_consumption/sweeps/k05shddu\n"
     ]
    }
   ],
   "source": [
    "count = 100 # number of runs to execute\n",
    "sweep_config['name'] = 'sweep-bayes'\n",
    "sweep_config['method'] = 'bayes'\n",
    "sweep_id = wandb.sweep(sweep_config, project='french_electrical_consumption', entity='jmdaignan')\n",
    "wandb.agent(sweep_id, function=train_and_evaluate, count=count)"
   ]
  },
  {
   "cell_type": "code",
   "execution_count": null,
   "metadata": {},
   "outputs": [],
   "source": []
  }
 ],
 "metadata": {
  "kernelspec": {
   "display_name": "oldml_p37",
   "language": "python",
   "name": "oldml_p37"
  },
  "language_info": {
   "codemirror_mode": {
    "name": "ipython",
    "version": 3
   },
   "file_extension": ".py",
   "mimetype": "text/x-python",
   "name": "python",
   "nbconvert_exporter": "python",
   "pygments_lexer": "ipython3",
   "version": "3.7.10"
  }
 },
 "nbformat": 4,
 "nbformat_minor": 4
}
