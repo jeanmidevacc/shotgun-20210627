{
 "cells": [
  {
   "cell_type": "markdown",
   "id": "6aa0ef30-20ea-4bb7-ad01-d9eea6440596",
   "metadata": {},
   "source": [
    "# 5_evidently_experiment\n",
    "\n",
    "A notebook to test the library evidently"
   ]
  },
  {
   "cell_type": "code",
   "execution_count": 9,
   "id": "2c636f22-3b19-4412-ad6b-c374e69af9e0",
   "metadata": {},
   "outputs": [],
   "source": [
    "import pandas as pd\n",
    "import pickle\n",
    "\n",
    "from sklearn.ensemble import RandomForestRegressor\n",
    "from sklearn.metrics import mean_squared_error\n",
    "\n",
    "from evidently.dashboard import Dashboard\n",
    "from evidently.tabs import DataDriftTab\n",
    "from evidently.tabs import RegressionPerformanceTab\n",
    "from evidently.profile_sections import RegressionPerformanceProfileSection\n",
    "from evidently.model_profile import Profile\n",
    "\n",
    "import wandb\n",
    "\n",
    "columns_weather = [ 't2m_min_bordeaux',\n",
    "       't2m_bordeaux', 't2m_max_bordeaux', 'prectot_bordeaux', 't2m_min_lille',\n",
    "       't2m_lille', 't2m_max_lille', 'prectot_lille', 't2m_min_paris',\n",
    "       't2m_paris', 't2m_max_paris', 'prectot_paris', 't2m_min_rennes',\n",
    "       't2m_rennes', 't2m_max_rennes', 'prectot_rennes', 't2m_min_nantes',\n",
    "       't2m_nantes', 't2m_max_nantes', 'prectot_nantes', 't2m_min_toulouse',\n",
    "       't2m_toulouse', 't2m_max_toulouse', 'prectot_toulouse',\n",
    "       't2m_min_marseille', 't2m_marseille', 't2m_max_marseille',\n",
    "       'prectot_marseille', 't2m_min_lyon', 't2m_lyon', 't2m_max_lyon',\n",
    "       'prectot_lyon', 't2m_min_nice', 't2m_nice', 't2m_max_nice',\n",
    "       'prectot_nice', 't2m_min_strasbourg', 't2m_strasbourg',\n",
    "       't2m_max_strasbourg', 'prectot_strasbourg', 't2m_min_montpellier',\n",
    "       't2m_montpellier', 't2m_max_montpellier', 'prectot_montpellier',\n",
    "       'weighted_t2m', 'weighted_t2m_min', 'weighted_t2m_max',\n",
    "       'weighted_prectot']\n",
    "\n",
    "columns_features = ['weekday', 'month', 'week_number'] + columns_weather"
   ]
  },
  {
   "cell_type": "code",
   "execution_count": 6,
   "id": "fc20e485-9b33-493d-9825-470175a143ad",
   "metadata": {},
   "outputs": [],
   "source": [
    "dfp_train = pd.read_csv('./data/rtu/model_train_data.csv')\n",
    "dfp_train['date'] = pd.to_datetime(dfp_train['date'])\n",
    "dfp_train.sort_values(['date'], inplace=True)\n",
    "\n",
    "dfp_test = pd.read_csv('./data/rtu/model_test_data.csv')\n",
    "dfp_test['date'] = pd.to_datetime(dfp_test['date'])\n",
    "dfp_test.sort_values(['date'], inplace=True)\n",
    "\n",
    "dfp_2020 = pd.read_csv('./data/rtu/2020_data.csv')\n",
    "dfp_2020['date'] = pd.to_datetime(dfp_2020['date'])"
   ]
  },
  {
   "cell_type": "code",
   "execution_count": 7,
   "id": "a602eaad-bed6-4374-95b2-f5c60b9fd41a",
   "metadata": {},
   "outputs": [],
   "source": [
    "# Keep it simple only date and consumption\n",
    "column_target = 'daily_electrical_consumption'\n",
    "X_train, y_train = dfp_train[columns_features], dfp_train[column_target]\n",
    "\n",
    "X_test, y_test = dfp_test[columns_features], dfp_test[column_target]\n",
    "X_2020 = dfp_2020[columns_features]"
   ]
  },
  {
   "cell_type": "code",
   "execution_count": 10,
   "id": "5841c31e-1a0c-40bb-9863-205e9457a1ac",
   "metadata": {},
   "outputs": [
    {
     "data": {
      "text/html": [
       "Finishing last run (ID:3nuh47lt) before initializing another..."
      ],
      "text/plain": [
       "<IPython.core.display.HTML object>"
      ]
     },
     "metadata": {},
     "output_type": "display_data"
    },
    {
     "data": {
      "text/html": [
       "<br/>Waiting for W&B process to finish, PID 7968<br/>Program ended successfully."
      ],
      "text/plain": [
       "<IPython.core.display.HTML object>"
      ]
     },
     "metadata": {},
     "output_type": "display_data"
    },
    {
     "data": {
      "text/html": [
       "Find user logs for this run at: <code>/home/jmdaignan/Development/shotgun-20210627/wandb/run-20210627_102511-3nuh47lt/logs/debug.log</code>"
      ],
      "text/plain": [
       "<IPython.core.display.HTML object>"
      ]
     },
     "metadata": {},
     "output_type": "display_data"
    },
    {
     "data": {
      "text/html": [
       "Find internal logs for this run at: <code>/home/jmdaignan/Development/shotgun-20210627/wandb/run-20210627_102511-3nuh47lt/logs/debug-internal.log</code>"
      ],
      "text/plain": [
       "<IPython.core.display.HTML object>"
      ]
     },
     "metadata": {},
     "output_type": "display_data"
    },
    {
     "data": {
      "text/html": [
       "Synced 5 W&B file(s), 0 media file(s), 0 artifact file(s) and 0 other file(s)"
      ],
      "text/plain": [
       "<IPython.core.display.HTML object>"
      ]
     },
     "metadata": {},
     "output_type": "display_data"
    },
    {
     "data": {
      "text/html": [
       "\n",
       "                    <br/>Synced <strong style=\"color:#cdcd00\">curious-salad-355</strong>: <a href=\"https://wandb.ai/jmdaignan/french_electrical_consumption/runs/3nuh47lt\" target=\"_blank\">https://wandb.ai/jmdaignan/french_electrical_consumption/runs/3nuh47lt</a><br/>\n",
       "                "
      ],
      "text/plain": [
       "<IPython.core.display.HTML object>"
      ]
     },
     "metadata": {},
     "output_type": "display_data"
    },
    {
     "data": {
      "text/html": [
       "...Successfully finished last run (ID:3nuh47lt). Initializing new run:<br/><br/>"
      ],
      "text/plain": [
       "<IPython.core.display.HTML object>"
      ]
     },
     "metadata": {},
     "output_type": "display_data"
    },
    {
     "name": "stderr",
     "output_type": "stream",
     "text": [
      "\u001b[34m\u001b[1mwandb\u001b[0m: wandb version 0.10.32 is available!  To upgrade, please run:\n",
      "\u001b[34m\u001b[1mwandb\u001b[0m:  $ pip install wandb --upgrade\n"
     ]
    },
    {
     "data": {
      "text/html": [
       "\n",
       "                Tracking run with wandb version 0.10.31<br/>\n",
       "                Syncing run <strong style=\"color:#cdcd00\">expert-water-356</strong> to <a href=\"https://wandb.ai\" target=\"_blank\">Weights & Biases</a> <a href=\"https://docs.wandb.com/integrations/jupyter.html\" target=\"_blank\">(Documentation)</a>.<br/>\n",
       "                Project page: <a href=\"https://wandb.ai/jmdaignan/french_electrical_consumption\" target=\"_blank\">https://wandb.ai/jmdaignan/french_electrical_consumption</a><br/>\n",
       "                Run page: <a href=\"https://wandb.ai/jmdaignan/french_electrical_consumption/runs/1u293kjp\" target=\"_blank\">https://wandb.ai/jmdaignan/french_electrical_consumption/runs/1u293kjp</a><br/>\n",
       "                Run data is saved locally in <code>/home/jmdaignan/Development/shotgun-20210627/wandb/run-20210627_102538-1u293kjp</code><br/><br/>\n",
       "            "
      ],
      "text/plain": [
       "<IPython.core.display.HTML object>"
      ]
     },
     "metadata": {},
     "output_type": "display_data"
    },
    {
     "data": {
      "text/plain": [
       "450678.70573988283"
      ]
     },
     "execution_count": 10,
     "metadata": {},
     "output_type": "execute_result"
    }
   ],
   "source": [
    "# Load the best model\n",
    "run = wandb.init(project='french_electrical_consumption', entity='jmdaignan')\n",
    "model_at = run.use_artifact('best_model_hyperopt:latest')\n",
    "model_dir = model_at.download()\n",
    "#model_dir = './data'\n",
    "with open(model_dir + '/model.pkl', 'rb') as file:\n",
    "    model = pickle.load(file)\n",
    "predictions = model.predict(X_test)\n",
    "rmse = mean_squared_error(y_test, predictions, squared=False)\n",
    "rmse"
   ]
  },
  {
   "cell_type": "code",
   "execution_count": 11,
   "id": "3825a500-cbc0-43c1-b969-e12ca73bf362",
   "metadata": {},
   "outputs": [],
   "source": [
    "# Get the data report\n",
    "data_drift_report = Dashboard(tabs=[DataDriftTab])\n",
    "data_drift_report.calculate(dfp_train[columns_features], dfp_2020[columns_features], column_mapping = None)\n",
    "data_drift_report.save(\"evidently_reports/data_report.html\")"
   ]
  },
  {
   "cell_type": "code",
   "execution_count": 12,
   "id": "09a92a7d-0d0b-4624-aa42-372a26270052",
   "metadata": {},
   "outputs": [],
   "source": [
    "# Prepare some data\n",
    "dfp_2020['prediction'] = model.predict(X_2020)\n",
    "dfp_test['prediction'] = model.predict(X_test)\n",
    "dfp_train['prediction'] = model.predict(X_train)\n",
    "column_mapping = {}\n",
    "\n",
    "column_mapping['target'] = column_target\n",
    "column_mapping['prediction'] = 'prediction'\n",
    "column_mapping['datetime'] = 'date'\n",
    "\n",
    "column_mapping['numerical_features'] = columns_weather\n",
    "column_mapping['categorical_features'] = ['weekday', 'month', 'week_number']"
   ]
  },
  {
   "cell_type": "code",
   "execution_count": 13,
   "id": "387f4943-c7e1-4a7c-923f-5824140a63d2",
   "metadata": {},
   "outputs": [],
   "source": [
    "# Get the model report\n",
    "regression_model_performance = Dashboard(tabs=[RegressionPerformanceTab]) \n",
    "regression_model_performance.calculate(dfp_train, dfp_2020, column_mapping = column_mapping) \n",
    "regression_model_performance.save(\"evidently_reports/model_report.html\")"
   ]
  },
  {
   "cell_type": "code",
   "execution_count": 14,
   "id": "c6a95ec1-9794-4a25-bffc-9c9f29f65853",
   "metadata": {},
   "outputs": [],
   "source": [
    "regression_performance_profile = Profile(sections=[RegressionPerformanceProfileSection])"
   ]
  },
  {
   "cell_type": "code",
   "execution_count": 15,
   "id": "ace94a22-7882-4f58-ba4b-72df36bad122",
   "metadata": {},
   "outputs": [],
   "source": [
    "regression_performance_profile.calculate(dfp_2020, dfp_test, column_mapping = column_mapping) "
   ]
  },
  {
   "cell_type": "code",
   "execution_count": null,
   "id": "4682346c-22f6-4d48-abe0-ed9fa4570c55",
   "metadata": {},
   "outputs": [],
   "source": []
  },
  {
   "cell_type": "code",
   "execution_count": null,
   "id": "8d78c798-a49a-467b-9131-828be88038ad",
   "metadata": {},
   "outputs": [],
   "source": []
  }
 ],
 "metadata": {
  "kernelspec": {
   "display_name": "oldml_p37",
   "language": "python",
   "name": "oldml_p37"
  },
  "language_info": {
   "codemirror_mode": {
    "name": "ipython",
    "version": 3
   },
   "file_extension": ".py",
   "mimetype": "text/x-python",
   "name": "python",
   "nbconvert_exporter": "python",
   "pygments_lexer": "ipython3",
   "version": "3.7.10"
  }
 },
 "nbformat": 4,
 "nbformat_minor": 5
}
